{
 "cells": [
  {
   "cell_type": "markdown",
   "id": "65331ebf-3254-4d66-a00c-731fd4a65e22",
   "metadata": {
    "tags": []
   },
   "source": [
    "# REPORT: LOAD CASES\n",
    "Author: James Kola Ojoawo<br>\n",
    "Date: 27/03/2022    1:38am<br>\n",
    "<br>\n",
    "\n",
    "This python script evaluates actions and load cases  using Eurocodes<br>\n",
    "The loads genereted can be used for further analysis"
   ]
  },
  {
   "cell_type": "markdown",
   "id": "64b93cfe-8b5f-4d1b-a48a-ec26a460178f",
   "metadata": {
    "tags": []
   },
   "source": [
    "### PROJECT INFORMATION"
   ]
  },
  {
   "cell_type": "code",
   "execution_count": 59,
   "id": "e40e42f8-3e8e-4a1a-9f71-aca39b1bb91a",
   "metadata": {},
   "outputs": [
    {
     "data": {
      "text/html": [
       "<div>\n",
       "<style scoped>\n",
       "    .dataframe tbody tr th:only-of-type {\n",
       "        vertical-align: middle;\n",
       "    }\n",
       "\n",
       "    .dataframe tbody tr th {\n",
       "        vertical-align: top;\n",
       "    }\n",
       "\n",
       "    .dataframe thead th {\n",
       "        text-align: right;\n",
       "    }\n",
       "</style>\n",
       "<table border=\"1\" class=\"dataframe\">\n",
       "  <thead>\n",
       "    <tr style=\"text-align: right;\">\n",
       "      <th></th>\n",
       "      <th>Project Name</th>\n",
       "      <th>PROPOSED RESIDENTIAL DEVELOPMENT</th>\n",
       "    </tr>\n",
       "  </thead>\n",
       "  <tbody>\n",
       "    <tr>\n",
       "      <th>0</th>\n",
       "      <td>Project Number</td>\n",
       "      <td>010</td>\n",
       "    </tr>\n",
       "    <tr>\n",
       "      <th>1</th>\n",
       "      <td>Company Name</td>\n",
       "      <td>ATREIDES ENGINEERING</td>\n",
       "    </tr>\n",
       "    <tr>\n",
       "      <th>2</th>\n",
       "      <td>Engineer</td>\n",
       "      <td>ENGR JAMES OJOAWO</td>\n",
       "    </tr>\n",
       "    <tr>\n",
       "      <th>3</th>\n",
       "      <td>Checker</td>\n",
       "      <td>ENGR SINA OWOADE</td>\n",
       "    </tr>\n",
       "    <tr>\n",
       "      <th>4</th>\n",
       "      <td>Supervisor</td>\n",
       "      <td>ENGR SAMSON OLAKUNLE OJOAWO</td>\n",
       "    </tr>\n",
       "    <tr>\n",
       "      <th>5</th>\n",
       "      <td>Model Name</td>\n",
       "      <td>DUPLEX MODEL</td>\n",
       "    </tr>\n",
       "    <tr>\n",
       "      <th>6</th>\n",
       "      <td>Model Description</td>\n",
       "      <td>2-STOREY STRUCTURAL DEVELOPMENT</td>\n",
       "    </tr>\n",
       "    <tr>\n",
       "      <th>7</th>\n",
       "      <td>Issue Number</td>\n",
       "      <td>010</td>\n",
       "    </tr>\n",
       "  </tbody>\n",
       "</table>\n",
       "</div>"
      ],
      "text/plain": [
       "        Project Name PROPOSED RESIDENTIAL DEVELOPMENT\n",
       "0     Project Number                              010\n",
       "1       Company Name             ATREIDES ENGINEERING\n",
       "2           Engineer                ENGR JAMES OJOAWO\n",
       "3            Checker                 ENGR SINA OWOADE\n",
       "4         Supervisor      ENGR SAMSON OLAKUNLE OJOAWO\n",
       "5         Model Name                     DUPLEX MODEL\n",
       "6  Model Description  2-STOREY STRUCTURAL DEVELOPMENT\n",
       "7       Issue Number                              010"
      ]
     },
     "execution_count": 59,
     "metadata": {},
     "output_type": "execute_result"
    }
   ],
   "source": [
    "import handcalcs.render\n",
    "import pandas as pd\n",
    "df = pd.read_csv(\"ProjectInformation.csv\")\n",
    "df.head(9)"
   ]
  },
  {
   "cell_type": "markdown",
   "id": "a4408def-ccef-4562-bac4-4a83d918d725",
   "metadata": {},
   "source": [
    "The loading codes to be used are:\n",
    "- BS 648:1964, *Schedule of weights of building materials*.\n",
    "- BS 6399, *Loading for buildings*.\n",
    "- BS 6399-1:1984, *Code of practice for dead and imposed loads*.\n",
    "- BS 6399-3:1988, *Code of practice for imposed roof loads*.\n",
    "- CP 3, *Code of basic data for the design of buildings*.\n",
    "- CP 3:Chapter V, *Loading*.\n",
    "- CP 3:Chapter V-2:1972, *Wind loads*. "
   ]
  },
  {
   "cell_type": "markdown",
   "id": "15390804-3fff-4e66-8ff8-a7e2b509fde4",
   "metadata": {
    "tags": []
   },
   "source": [
    "##  1. FRAME/WALL LOADS\n",
    "- Frame loads here will be assigned on the external beam/structure\n",
    "  at the first floor level\n",
    "- The Frame load actions are static and in gravity direction\n",
    "- Wall openings will be ignored to ensure maximum load evaluation\n",
    "- The Constituent  Materials are 230 by 230 blocks, concrete cladding & Aluminium Cladding"
   ]
  },
  {
   "cell_type": "code",
   "execution_count": 60,
   "id": "d2c27bc9-a3dd-415d-9b2a-248d2276d51f",
   "metadata": {},
   "outputs": [
    {
     "name": "stdin",
     "output_type": "stream",
     "text": [
      "Supply the basic weight of the desired wall material in kN/m2:  2.87\n",
      "Supply other weight or extra finishes in kN/m2:  .6\n",
      "Supply the wall height in m:  3.15\n"
     ]
    }
   ],
   "source": [
    "weight = float(input('Supply the basic weight of the desired wall material in kN/m2: '))\n",
    "finishes = float(input('Supply other weight or extra finishes in kN/m2: '))\n",
    "height = float(input('Supply the wall height in m: '))\n",
    "\n",
    "gamma = weight + finishes"
   ]
  },
  {
   "cell_type": "code",
   "execution_count": 61,
   "id": "35dacb57-e740-4fdf-90f4-624d67ea9535",
   "metadata": {},
   "outputs": [
    {
     "data": {
      "text/latex": [
       "\\[\n",
       "\\begin{aligned}\n",
       "\\gamma &= 3.47 \\; \\;\\textrm{(Total wall weight + finishes  in kN/m2)}\n",
       "\\\\[10pt]\n",
       "\\mathrm{height} &= 3.15 \\; \\;\\textrm{(Clear wall Height  in m)}\n",
       "\\end{aligned}\n",
       "\\]"
      ],
      "text/plain": [
       "<IPython.core.display.Latex object>"
      ]
     },
     "metadata": {},
     "output_type": "display_data"
    }
   ],
   "source": [
    "%%render\n",
    "gamma                # Total wall weight + finishes  in kN/m2          \n",
    "height               # Clear wall Height  in m    "
   ]
  },
  {
   "cell_type": "code",
   "execution_count": 62,
   "id": "d26fa6df-d61d-4d46-917a-ef23bcb83030",
   "metadata": {},
   "outputs": [
    {
     "data": {
      "text/latex": [
       "\\[\n",
       "\\begin{aligned}\n",
       "G_{k_{frame}} &= \\gamma \\cdot \\mathrm{height}  = 3.47 \\cdot 3.15 &= 10.931 \\; \\;\\textrm{(Value of Super Dead Load per unit metre run in kN/m)}\n",
       "\\end{aligned}\n",
       "\\]"
      ],
      "text/plain": [
       "<IPython.core.display.Latex object>"
      ]
     },
     "metadata": {},
     "output_type": "display_data"
    }
   ],
   "source": [
    "%%render\n",
    "G_k_frame = gamma * height        # Value of Super Dead Load per unit metre run in kN/m"
   ]
  },
  {
   "cell_type": "markdown",
   "id": "540e41bd-325d-4949-8132-2e185d7fa5f6",
   "metadata": {},
   "source": [
    "## 2. SHELL LOADS\n",
    "Load Sets are created for each slab panel here, <br>\n",
    "All the slabs are 150mm thick<br>\n",
    "Slab Panel retaining Two 2000 litre - tanks will be considered"
   ]
  },
  {
   "cell_type": "markdown",
   "id": "218caaf7-4ed6-4508-9ffe-ffe6eade63f1",
   "metadata": {},
   "source": [
    "### a.  Panel F2, Story 1\n",
    "Floor Area Usage: Kitchen and Terrace"
   ]
  },
  {
   "cell_type": "code",
   "execution_count": 64,
   "id": "2945a67b-1441-4061-a312-c3417e4eb962",
   "metadata": {},
   "outputs": [
    {
     "name": "stdin",
     "output_type": "stream",
     "text": [
      "Supply any Super Dead Load + finishes for kitchen in kN/m2:  .65\n",
      "Supply the intensity of imposed distrubuted load for kitchen in kN/m2:  3\n"
     ]
    }
   ],
   "source": [
    "dl = 0\n",
    "G_k_f2 = float(input('Supply any Super Dead Load + finishes for kitchen in kN/m2: '))\n",
    "Q_k_f2 = float(input('Supply the intensity of imposed distrubuted load for kitchen in kN/m2: '))  "
   ]
  },
  {
   "cell_type": "code",
   "execution_count": 65,
   "id": "5a7c32c7-34f1-4fb3-b003-11fb7289303d",
   "metadata": {},
   "outputs": [
    {
     "data": {
      "text/latex": [
       "\\[\n",
       "\\begin{aligned}\n",
       "G_{k_{f2}} &= 0.65 \\; \\;\\textrm{(Super dead load)}\n",
       "\\\\[10pt]\n",
       "Q_{k_{f2}} &= 3.0 \\; \\;\\textrm{(Intensity of Imposed Distributed Load for Kitchen)}\n",
       "\\end{aligned}\n",
       "\\]"
      ],
      "text/plain": [
       "<IPython.core.display.Latex object>"
      ]
     },
     "metadata": {},
     "output_type": "display_data"
    }
   ],
   "source": [
    "%%render\n",
    "G_k_f2           # Super dead load\n",
    "Q_k_f2           # Intensity of Imposed Distributed Load for Kitchen "
   ]
  },
  {
   "cell_type": "markdown",
   "id": "79c8d4a5-314d-441a-b5c1-33d9df3f5e0d",
   "metadata": {},
   "source": [
    "### b. Panel F7, Story 1\n",
    "Floor Area Usage:<br> \n",
    "                 - Bedroom<br>\n",
    "                 - WC            "
   ]
  },
  {
   "cell_type": "code",
   "execution_count": 66,
   "id": "3d8b14d0-9e9f-4f47-b450-a5f3237c7236",
   "metadata": {},
   "outputs": [
    {
     "name": "stdin",
     "output_type": "stream",
     "text": [
      "Supply the Super Dead Load (finishes, partitioning) for Bedroom in kN/m2:  1.5\n",
      "Supply the intensity of the Imposed Distrubuted Load for Bedroom in kN/m2:  1.5\n"
     ]
    }
   ],
   "source": [
    "dl = 0\n",
    "G_k_f7 = float(input('Supply the Super Dead Load (finishes, partitioning) for Bedroom in kN/m2: '))\n",
    "Q_k_f7 = float(input('Supply the intensity of the Imposed Distrubuted Load for Bedroom in kN/m2: ')) "
   ]
  },
  {
   "cell_type": "code",
   "execution_count": 67,
   "id": "3107a8bd-5df5-46e6-bdd3-39e2f93f2200",
   "metadata": {},
   "outputs": [
    {
     "data": {
      "text/latex": [
       "\\[\n",
       "\\begin{aligned}\n",
       "G_{k_{f7}} &= 1.5 \\; \\;\\textrm{(Super dead load)}\n",
       "\\\\[10pt]\n",
       "Q_{k_{f7}} &= 1.5 \\; \\;\\textrm{(Intensity of Imposed Distributed Load for the Bedroom)}\n",
       "\\end{aligned}\n",
       "\\]"
      ],
      "text/plain": [
       "<IPython.core.display.Latex object>"
      ]
     },
     "metadata": {},
     "output_type": "display_data"
    }
   ],
   "source": [
    "%%render\n",
    "G_k_f7           # Super dead load\n",
    "Q_k_f7           # Intensity of Imposed Distributed Load for the Bedroom"
   ]
  },
  {
   "cell_type": "markdown",
   "id": "734390fb-c794-4ac8-bda9-769c2807f8a8",
   "metadata": {},
   "source": [
    "### c. Panel F8, Story 1\n",
    "Floor Area Usage: Living Room, WC, Terr."
   ]
  },
  {
   "cell_type": "code",
   "execution_count": 68,
   "id": "0fd0108c-e71a-44a5-94a3-3db159f64a66",
   "metadata": {},
   "outputs": [
    {
     "name": "stdin",
     "output_type": "stream",
     "text": [
      "Supply the Super Dead Load (finishes, partitioning) for this area in kN/m2:  2\n",
      "Supply the intensity of the Imposed Distrubuted Load for this floor area in kN/m2:  2\n"
     ]
    }
   ],
   "source": [
    "dl = 0\n",
    "G_k_f8 = float(input('Supply the Super Dead Load (finishes, partitioning) for this area in kN/m2: '))\n",
    "Q_k_f8 = float(input('Supply the intensity of the Imposed Distrubuted Load for this floor area in kN/m2: ')) "
   ]
  },
  {
   "cell_type": "code",
   "execution_count": 69,
   "id": "b1cd1a56-511c-4def-b321-68b90efc07b8",
   "metadata": {},
   "outputs": [
    {
     "data": {
      "text/latex": [
       "\\[\n",
       "\\begin{aligned}\n",
       "G_{k_{f8}} &= 2.0 \\; \\;\\textrm{(Super dead load in kN/m2)}\n",
       "\\\\[10pt]\n",
       "Q_{k_{f8}} &= 2.0 \\; \\;\\textrm{(Intensity of Imposed Distributed Load for this floor area in kN/m2)}\n",
       "\\end{aligned}\n",
       "\\]"
      ],
      "text/plain": [
       "<IPython.core.display.Latex object>"
      ]
     },
     "metadata": {},
     "output_type": "display_data"
    }
   ],
   "source": [
    "%%render\n",
    "G_k_f8           # Super dead load in kN/m2\n",
    "Q_k_f8           # Intensity of Imposed Distributed Load for this floor area in kN/m2"
   ]
  },
  {
   "cell_type": "markdown",
   "id": "ce5081eb-fa24-43e8-9e0f-6b52fedb23e9",
   "metadata": {},
   "source": [
    "### c. Panel F9, Story 1\n",
    "Floor Area Usage: Bedroom, WC."
   ]
  },
  {
   "cell_type": "code",
   "execution_count": 70,
   "id": "20a8e0fb-80da-4daa-ae13-14b80d254c70",
   "metadata": {},
   "outputs": [
    {
     "name": "stdin",
     "output_type": "stream",
     "text": [
      "Supply the Super Dead Load (finishes, partitioning) for this area in kN/m2:  1\n",
      "Supply the intensity of the Imposed Distrubuted Load for this floor area in kN/m2:  3\n"
     ]
    }
   ],
   "source": [
    "dl = 0\n",
    "G_k_f9 = float(input('Supply the Super Dead Load (finishes, partitioning) for this area in kN/m2: '))\n",
    "Q_k_f9 = float(input('Supply the intensity of the Imposed Distrubuted Load for this floor area in kN/m2: ')) "
   ]
  },
  {
   "cell_type": "code",
   "execution_count": 71,
   "id": "e05f43f5-a195-4ab7-bd8d-5d336a2d0bbb",
   "metadata": {},
   "outputs": [
    {
     "data": {
      "text/latex": [
       "\\[\n",
       "\\begin{aligned}\n",
       "G_{k_{f9}} &= 1.0 \\; \\;\\textrm{(Super dead load in kN/m2)}\n",
       "\\\\[10pt]\n",
       "Q_{k_{f9}} &= 3.0 \\; \\;\\textrm{(Intensity of Imposed Distributed Load for this floor area in kN/m2)}\n",
       "\\end{aligned}\n",
       "\\]"
      ],
      "text/plain": [
       "<IPython.core.display.Latex object>"
      ]
     },
     "metadata": {},
     "output_type": "display_data"
    }
   ],
   "source": [
    "%%render\n",
    "G_k_f9           # Super dead load in kN/m2\n",
    "Q_k_f9          # Intensity of Imposed Distributed Load for this floor area in kN/m2"
   ]
  },
  {
   "cell_type": "markdown",
   "id": "4b30aa8a-85cf-44cd-878c-4a1965b1b0c4",
   "metadata": {},
   "source": [
    "### c. Panel F10, Story 1\n",
    "Floor Area Usage: Master Bedroom."
   ]
  },
  {
   "cell_type": "code",
   "execution_count": 72,
   "id": "faa36ce4-af09-4a7d-9180-ac8c9a5cd3d4",
   "metadata": {},
   "outputs": [
    {
     "name": "stdin",
     "output_type": "stream",
     "text": [
      "Supply the Super Dead Load (finishes, partitioning) for this area in kN/m2:  1\n",
      "Supply the intensity of the Imposed Distrubuted Load for this floor area in kN/m2:  3\n"
     ]
    }
   ],
   "source": [
    "dl = 0\n",
    "G_k_f10 = float(input('Supply the Super Dead Load (finishes, partitioning) for this area in kN/m2: '))\n",
    "Q_k_f10 = float(input('Supply the intensity of the Imposed Distrubuted Load for this floor area in kN/m2: '))"
   ]
  },
  {
   "cell_type": "code",
   "execution_count": 73,
   "id": "cc90c390-b83e-4c41-910b-862b6ea85082",
   "metadata": {},
   "outputs": [
    {
     "data": {
      "text/latex": [
       "\\[\n",
       "\\begin{aligned}\n",
       "G_{k_{f10}} &= 1.0 \\; \\;\\textrm{(Super dead load in kN/m2)}\n",
       "\\\\[10pt]\n",
       "Q_{k_{f10}} &= 3.0 \\; \\;\\textrm{(Intensity of Imposed Distributed Load for this floor area in kN/m2)}\n",
       "\\end{aligned}\n",
       "\\]"
      ],
      "text/plain": [
       "<IPython.core.display.Latex object>"
      ]
     },
     "metadata": {},
     "output_type": "display_data"
    }
   ],
   "source": [
    "%%render\n",
    "G_k_f10           # Super dead load in kN/m2\n",
    "Q_k_f10           # Intensity of Imposed Distributed Load for this floor area in kN/m2"
   ]
  },
  {
   "cell_type": "markdown",
   "id": "5267e3ff-7804-431d-8da7-3363739de339",
   "metadata": {},
   "source": [
    "### c. Panel F11, Story 1\n",
    "Floor Area Usage: Dining Room."
   ]
  },
  {
   "cell_type": "code",
   "execution_count": 74,
   "id": "bc91f3ce-ebfc-43da-982c-2a88ece83e51",
   "metadata": {},
   "outputs": [
    {
     "name": "stdin",
     "output_type": "stream",
     "text": [
      "Supply the Super Dead Load (finishes, partitioning) for this area in kN/m2:  .4\n",
      "Supply the intensity of the Imposed Distrubuted Load for this floor area in kN/m2:  1.5\n"
     ]
    }
   ],
   "source": [
    "dl = 0\n",
    "G_k_f11 = float(input('Supply the Super Dead Load (finishes, partitioning) for this area in kN/m2: '))\n",
    "Q_k_f11 = float(input('Supply the intensity of the Imposed Distrubuted Load for this floor area in kN/m2: '))"
   ]
  },
  {
   "cell_type": "code",
   "execution_count": 75,
   "id": "3a7a7e1d-ef6c-43d1-9721-bc2381cd6417",
   "metadata": {},
   "outputs": [
    {
     "data": {
      "text/latex": [
       "\\[\n",
       "\\begin{aligned}\n",
       "G_{k_{f11}} &= 0.4 \\; \\;\\textrm{(Super dead load in kN/m2)}\n",
       "\\\\[10pt]\n",
       "Q_{k_{f11}} &= 1.5 \\; \\;\\textrm{(Intensity of Imposed Distributed Load for this floor area in kN/m)}\n",
       "\\end{aligned}\n",
       "\\]"
      ],
      "text/plain": [
       "<IPython.core.display.Latex object>"
      ]
     },
     "metadata": {},
     "output_type": "display_data"
    }
   ],
   "source": [
    "%%render\n",
    "G_k_f11           # Super dead load in kN/m2\n",
    "Q_k_f11           # Intensity of Imposed Distributed Load for this floor area in kN/m"
   ]
  },
  {
   "cell_type": "markdown",
   "id": "a79c82b3-81ec-419e-8cad-881ddb1836f5",
   "metadata": {},
   "source": [
    "### c. Panel F1, Story 1\n",
    "Floor Area Usage: Stair landing I."
   ]
  },
  {
   "cell_type": "code",
   "execution_count": 76,
   "id": "fa6b5fda-ce01-483c-b029-f27cb4d62d30",
   "metadata": {},
   "outputs": [
    {
     "name": "stdin",
     "output_type": "stream",
     "text": [
      "Supply the Super Dead Load (finishes) for this stair landing area in kN/m2:  .3\n",
      "Supply the intensity of the Imposed Distrubuted Load for this stair landing area in kN/m2:  1\n"
     ]
    }
   ],
   "source": [
    "dl = 0\n",
    "G_k_f1 = float(input('Supply the Super Dead Load (finishes) for this stair landing area in kN/m2: '))\n",
    "Q_k_f1 = float(input('Supply the intensity of the Imposed Distrubuted Load for this stair landing area in kN/m2: '))"
   ]
  },
  {
   "cell_type": "code",
   "execution_count": 77,
   "id": "9d39b245-7ba7-479a-bc28-8c29981b2b77",
   "metadata": {},
   "outputs": [
    {
     "data": {
      "text/latex": [
       "\\[\n",
       "\\begin{aligned}\n",
       "G_{k_{f1}} &= 0.3 \\; \\;\\textrm{(Super dead load in kN/m2)}\n",
       "\\\\[10pt]\n",
       "Q_{k_{f1}} &= 1.0 \\; \\;\\textrm{(Intensity of Imposed Distributed Load for this stair landing area in kN/m)}\n",
       "\\end{aligned}\n",
       "\\]"
      ],
      "text/plain": [
       "<IPython.core.display.Latex object>"
      ]
     },
     "metadata": {},
     "output_type": "display_data"
    }
   ],
   "source": [
    "%%render\n",
    "G_k_f1           # Super dead load in kN/m2\n",
    "Q_k_f1           # Intensity of Imposed Distributed Load for this stair landing area in kN/m"
   ]
  },
  {
   "cell_type": "markdown",
   "id": "6fa3785a-d14b-47cd-8668-a7e8d3501564",
   "metadata": {
    "tags": []
   },
   "source": [
    "### c. Panel F6, Story 1\n",
    "Floor Area Usage: Stair landing II."
   ]
  },
  {
   "cell_type": "code",
   "execution_count": 78,
   "id": "b23cd78b-767e-4cc3-a83a-b51edcd19768",
   "metadata": {},
   "outputs": [
    {
     "name": "stdin",
     "output_type": "stream",
     "text": [
      "Supply the Super Dead Load (finishes) for this stair landing area in kN/m2:  .4\n",
      "Supply the intensity of the Imposed Distrubuted Load for this stair landing area in kN/m2:  1.5\n"
     ]
    }
   ],
   "source": [
    "dl = 0\n",
    "G_k_f6 = float(input('Supply the Super Dead Load (finishes) for this stair landing area in kN/m2: '))\n",
    "Q_k_f6 = float(input('Supply the intensity of the Imposed Distrubuted Load for this stair landing area in kN/m2: '))"
   ]
  },
  {
   "cell_type": "code",
   "execution_count": 79,
   "id": "e8c7951f-1a1a-42ac-969d-d8798fc88a20",
   "metadata": {},
   "outputs": [
    {
     "data": {
      "text/latex": [
       "\\[\n",
       "\\begin{aligned}\n",
       "G_{k_{f6}} &= 0.4 \\; \\;\\textrm{(Super dead load in kN/m2)}\n",
       "\\\\[10pt]\n",
       "Q_{k_{f6}} &= 1.5 \\; \\;\\textrm{(Intensity of Imposed Distributed Load for this stair landing area in kN/m)}\n",
       "\\end{aligned}\n",
       "\\]"
      ],
      "text/plain": [
       "<IPython.core.display.Latex object>"
      ]
     },
     "metadata": {},
     "output_type": "display_data"
    }
   ],
   "source": [
    "%%render\n",
    "G_k_f6           # Super dead load in kN/m2\n",
    "Q_k_f6           # Intensity of Imposed Distributed Load for this stair landing area in kN/m"
   ]
  },
  {
   "cell_type": "markdown",
   "id": "84e11c58-1bd1-4b2f-a4f8-64f32d186aa4",
   "metadata": {},
   "source": [
    "### d. Panel W1, Story 1\n",
    "Floor Usage Area: Stair First Flight"
   ]
  },
  {
   "cell_type": "code",
   "execution_count": 80,
   "id": "764dcd32-49db-4243-88e7-31c14fd28efc",
   "metadata": {},
   "outputs": [
    {
     "name": "stdin",
     "output_type": "stream",
     "text": [
      "Supply the desired waist thickness of the stair flight in m:  .15\n",
      "Supply the concrete strength according to the grade of concrete used in kN/m2:  25\n",
      "Supply the weight of super dead finishes in kN/m2:  1.2\n",
      "Supply the height of each riser in m:  .15\n",
      "Supply the no. of steps in this stair flight:  8\n",
      "Supply the length of each step going:  .25\n",
      "Supply the intensity of the Imposed Distrubuted Load for this stair flight in kN/m2:  1.5\n"
     ]
    }
   ],
   "source": [
    "waist = float(input('Supply the desired waist thickness of the stair flight in m: '))\n",
    "f_ck = float(input('Supply the concrete strength according to the grade of concrete used in kN/m2: '))  \n",
    "finishes = float(input('Supply the weight of super dead finishes in kN/m2: '))\n",
    "riser = float(input('Supply the height of each riser in m: '))\n",
    "steps = float(input('Supply the no. of steps in this stair flight: '))\n",
    "going = float(input('Supply the length of each step going: '))\n",
    "Q_k_w1 = float(input('Supply the intensity of the Imposed Distrubuted Load for this stair flight in kN/m2: '))"
   ]
  },
  {
   "cell_type": "code",
   "execution_count": 81,
   "id": "1f57dd67-ad2b-44bd-9abd-ec7ccc2d6a7a",
   "metadata": {},
   "outputs": [],
   "source": [
    "from math import sqrt"
   ]
  },
  {
   "cell_type": "code",
   "execution_count": 82,
   "id": "4ee140b3-fb7e-43e3-9a1f-fb1472105509",
   "metadata": {},
   "outputs": [
    {
     "data": {
      "text/latex": [
       "\\[\n",
       "\\begin{aligned}\n",
       "W &= \\mathrm{waist} \\cdot f_{ck} \\\\&= 0.15 \\cdot 25.0 \\\\&= 3.75 \\; \\;\\textrm{(Concrete own weight)}\\\\\n",
       "\\\\[10pt]\n",
       "S &= 0.5 \\cdot \\mathrm{riser} \\cdot f_{ck} \\\\&= 0.5 \\cdot 0.15 \\cdot 25.0 \\\\&= 1.875 \\; \\;\\textrm{(Weight of steps)}\\\\\n",
       "\\\\[10pt]\n",
       "\\mathrm{finishes} &= 1.2 \\; \\;\\textrm{(weight of super dead finishes)}\n",
       "\\\\[10pt]\n",
       "\\alpha_{cos} &= \\frac{ \\sqrt { \\left( \\mathrm{going} \\cdot 1000 \\right) ^{ 2 } + \\left( \\mathrm{riser} \\cdot 1000 \\right) ^{ 2 } } }{ \\mathrm{going} \\cdot 1000 } \\\\&= \\frac{ \\sqrt { \\left( 0.25 \\cdot 1000 \\right) ^{ 2 } + \\left( 0.15 \\cdot 1000 \\right) ^{ 2 } } }{ 0.25 \\cdot 1000 } \\\\&= 1.166 \\; \\;\\textrm{(slope factor)}\\\\\n",
       "\\end{aligned}\n",
       "\\]"
      ],
      "text/plain": [
       "<IPython.core.display.Latex object>"
      ]
     },
     "metadata": {},
     "output_type": "display_data"
    }
   ],
   "source": [
    "%%render\n",
    "# long\n",
    "W = waist * f_ck          # Concrete own weight\n",
    "S = 0.5 * riser * f_ck    # Weight of steps \n",
    "finishes                  # weight of super dead finishes   \n",
    "alpha_cos =  sqrt(((going *1000)**2) + ((riser *1000)**2))/(going * 1000)     #slope factor"
   ]
  },
  {
   "cell_type": "code",
   "execution_count": 83,
   "id": "49a18beb-c7f9-4a13-b808-8a1487ad1d36",
   "metadata": {},
   "outputs": [
    {
     "data": {
      "text/latex": [
       "\\[\n",
       "\\begin{aligned}\n",
       "G_{k_{W1}} &= \\left( \\left( W + \\mathrm{finishes} \\right) \\cdot \\alpha_{cos} + S \\right) \\cdot 1.35 \\\\&= \\left( \\left( 3.75 + 1.2 \\right) \\cdot 1.166 + 1.875 \\right) \\cdot 1.35 \\\\&= 10.324 \\; \\;\\textrm{(Total Dead load of this Stair Flight in kN/m)}\\\\\n",
       "\\end{aligned}\n",
       "\\]"
      ],
      "text/plain": [
       "<IPython.core.display.Latex object>"
      ]
     },
     "metadata": {},
     "output_type": "display_data"
    }
   ],
   "source": [
    "%%render\n",
    "# long\n",
    "G_k_W1 = ((W + finishes) * alpha_cos + S) * 1.35              # Total Dead load of this Stair Flight in kN/m"
   ]
  },
  {
   "cell_type": "code",
   "execution_count": 84,
   "id": "a76c000a-fd0d-43ee-8e8f-0f525a4e2946",
   "metadata": {},
   "outputs": [
    {
     "data": {
      "text/latex": [
       "\\[\n",
       "\\begin{aligned}\n",
       "Q_{k_{W1}} &= Q_{k_{w1}} \\cdot 1.5 \\\\&= 1.5 \\cdot 1.5 \\\\&= 2.25 \\; \\;\\textrm{(Total Imposed Distributed Load on this Stair Flight in kN/m)}\\\\\n",
       "\\end{aligned}\n",
       "\\]"
      ],
      "text/plain": [
       "<IPython.core.display.Latex object>"
      ]
     },
     "metadata": {},
     "output_type": "display_data"
    }
   ],
   "source": [
    "%%render\n",
    "# long\n",
    "Q_k_W1 = Q_k_w1 * 1.5             # Total Imposed Distributed Load on this Stair Flight in kN/m"
   ]
  },
  {
   "cell_type": "markdown",
   "id": "49d93781-af80-47fd-ad75-190d0b9d4f66",
   "metadata": {},
   "source": [
    "### e. Panel W2, Story 1\n",
    "Floor Usage Area: Stair First Flight"
   ]
  },
  {
   "cell_type": "code",
   "execution_count": 85,
   "id": "7e08ac74-4f09-4161-80a9-179600d67519",
   "metadata": {},
   "outputs": [
    {
     "name": "stdin",
     "output_type": "stream",
     "text": [
      "Supply the desired waist thickness of the stair flight in m:  .15\n",
      "Supply the concrete strength according to the grade of concrete used in kN/m2:  25\n",
      "Supply the weight of super dead finishes in kN/m2:  1.2\n",
      "Supply the height of each riser in m:  .15\n",
      "Supply the no. of steps in this stair flight:  9\n",
      "Supply the length of each step going:  .25\n",
      "Supply the intensity of the Imposed Distrubuted Load for this stair flight in kN/m2:  1.55\n"
     ]
    }
   ],
   "source": [
    "from math import sqrt\n",
    "\n",
    "waist = float(input('Supply the desired waist thickness of the stair flight in m: '))\n",
    "f_ck = float(input('Supply the concrete strength according to the grade of concrete used in kN/m2: '))  \n",
    "finishes = float(input('Supply the weight of super dead finishes in kN/m2: '))\n",
    "riser = float(input('Supply the height of each riser in m: '))\n",
    "steps = float(input('Supply the no. of steps in this stair flight: '))\n",
    "going = float(input('Supply the length of each step going: '))\n",
    "Q_k_w2 = float(input('Supply the intensity of the Imposed Distrubuted Load for this stair flight in kN/m2: '))"
   ]
  },
  {
   "cell_type": "code",
   "execution_count": 86,
   "id": "3acb38b1-4436-482c-a832-0257cdcab598",
   "metadata": {},
   "outputs": [
    {
     "data": {
      "text/latex": [
       "\\[\n",
       "\\begin{aligned}\n",
       "W &= \\mathrm{waist} \\cdot f_{ck} \\\\&= 0.15 \\cdot 25.0 \\\\&= 3.75 \\; \\;\\textrm{(Concrete own weight)}\\\\\n",
       "\\\\[10pt]\n",
       "S &= 0.5 \\cdot \\mathrm{riser} \\cdot f_{ck} \\\\&= 0.5 \\cdot 0.15 \\cdot 25.0 \\\\&= 1.875 \\; \\;\\textrm{(Weight of steps)}\\\\\n",
       "\\\\[10pt]\n",
       "\\mathrm{finishes} &= 1.2 \\; \\;\\textrm{(weight of super dead finishes)}\n",
       "\\\\[10pt]\n",
       "\\alpha_{cos} &= \\frac{ \\sqrt { \\left( \\mathrm{going} \\cdot 1000 \\right) ^{ 2 } + \\left( \\mathrm{riser} \\cdot 1000 \\right) ^{ 2 } } }{ \\mathrm{going} \\cdot 1000 } \\\\&= \\frac{ \\sqrt { \\left( 0.25 \\cdot 1000 \\right) ^{ 2 } + \\left( 0.15 \\cdot 1000 \\right) ^{ 2 } } }{ 0.25 \\cdot 1000 } \\\\&= 1.166 \\; \\;\\textrm{(slope factor)}\\\\\n",
       "\\end{aligned}\n",
       "\\]"
      ],
      "text/plain": [
       "<IPython.core.display.Latex object>"
      ]
     },
     "metadata": {},
     "output_type": "display_data"
    }
   ],
   "source": [
    "%%render\n",
    "# long\n",
    "W = waist * f_ck          # Concrete own weight\n",
    "S = 0.5 * riser * f_ck    # Weight of steps \n",
    "finishes                  # weight of super dead finishes   \n",
    "alpha_cos =  sqrt(((going *1000)**2) + ((riser *1000)**2))/(going * 1000)     #slope factor"
   ]
  },
  {
   "cell_type": "code",
   "execution_count": 87,
   "id": "e5beb38f-ab42-4799-af2b-f37a0924877e",
   "metadata": {},
   "outputs": [
    {
     "data": {
      "text/latex": [
       "\\[\n",
       "\\begin{aligned}\n",
       "G_{k_{W2}} &= \\left( \\left( W + \\mathrm{finishes} \\right) \\cdot \\alpha_{cos} + S \\right) \\cdot 1.35 \\\\&= \\left( \\left( 3.75 + 1.2 \\right) \\cdot 1.166 + 1.875 \\right) \\cdot 1.35 \\\\&= 10.324 \\; \\;\\textrm{(Total Dead load of this Stair Flight in kN/m)}\\\\\n",
       "\\end{aligned}\n",
       "\\]"
      ],
      "text/plain": [
       "<IPython.core.display.Latex object>"
      ]
     },
     "metadata": {},
     "output_type": "display_data"
    }
   ],
   "source": [
    "%%render\n",
    "# long\n",
    "G_k_W2 = ((W + finishes) * alpha_cos + S) * 1.35              # Total Dead load of this Stair Flight in kN/m"
   ]
  },
  {
   "cell_type": "code",
   "execution_count": 88,
   "id": "c9d06890-0705-4e02-9f2b-5bb8c797541a",
   "metadata": {},
   "outputs": [
    {
     "data": {
      "text/latex": [
       "\\[\n",
       "\\begin{aligned}\n",
       "Q_{k_{W2}} &= Q_{k_{w2}} \\cdot 1.5 \\\\&= 1.55 \\cdot 1.5 \\\\&= 2.325 \\; \\;\\textrm{(Total Imposed Distributed Load on this Stair Flight in kN/m)}\\\\\n",
       "\\end{aligned}\n",
       "\\]"
      ],
      "text/plain": [
       "<IPython.core.display.Latex object>"
      ]
     },
     "metadata": {},
     "output_type": "display_data"
    }
   ],
   "source": [
    "%%render\n",
    "# long\n",
    "Q_k_W2 = Q_k_w2 * 1.5             # Total Imposed Distributed Load on this Stair Flight in kN/m"
   ]
  },
  {
   "cell_type": "markdown",
   "id": "6fc2c787-f4db-4298-8a36-41504341dbc4",
   "metadata": {},
   "source": [
    "# AUTOMATION: EXPORTING OF LOAD CASES TO ETABS\n",
    "The section of code below uses the values of the load cases generated above <br>\n",
    "to create uniform load sets for each panel in CSi ETABS"
   ]
  },
  {
   "cell_type": "code",
   "execution_count": 50,
   "id": "b90c7794-97ec-4e5e-82b1-a31ea1e21dc6",
   "metadata": {},
   "outputs": [],
   "source": [
    "import os\n",
    "import sys\n",
    "import comtypes.client"
   ]
  },
  {
   "cell_type": "markdown",
   "id": "7e9676e1-9a34-4a44-bcfd-b0cec69ff821",
   "metadata": {},
   "source": [
    "##### Specify the path to your ETABS version below:"
   ]
  },
  {
   "cell_type": "code",
   "execution_count": 51,
   "id": "d58b934e-d22d-433e-acce-59934c93770d",
   "metadata": {
    "tags": []
   },
   "outputs": [],
   "source": [
    "ProgramPath = \"C:\\Program Files\\Computers and Structures\\ETABS 20\\ETABS.exe\""
   ]
  },
  {
   "cell_type": "markdown",
   "id": "b0f18a2e-2a41-4d9a-86f8-af9025eec196",
   "metadata": {},
   "source": [
    "##### Full path to your model, Set it to your desired path:"
   ]
  },
  {
   "cell_type": "code",
   "execution_count": 54,
   "id": "062b8a57-4d63-4304-b212-46d8f4ef94ba",
   "metadata": {},
   "outputs": [],
   "source": [
    "ModelPath = r\"C:\\Users\\James Ojoawo\\Documents\\CAD\\ETABS\\Projects\\2-STOREY STRUCTURAL DEVELOPMENT\\Augustine.EDB\""
   ]
  },
  {
   "cell_type": "code",
   "execution_count": 56,
   "id": "ecff9795-1c5f-4c5c-b4e2-8eefc3ffef5c",
   "metadata": {},
   "outputs": [],
   "source": [
    "# create API helper object\n",
    "helper = comtypes.client.CreateObject('ETABSv1.Helper')\n",
    "helper = helper.QueryInterface(comtypes.gen.ETABSv1.cHelper)\n",
    "\n",
    "# create an instance of the ETABS object from the specified path\n",
    "myETABSObject = helper.CreateObject(ProgramPath)"
   ]
  },
  {
   "cell_type": "code",
   "execution_count": 57,
   "id": "295b499e-e355-4f55-a23e-13b4846e1dc9",
   "metadata": {},
   "outputs": [
    {
     "data": {
      "text/plain": [
       "0"
      ]
     },
     "execution_count": 57,
     "metadata": {},
     "output_type": "execute_result"
    }
   ],
   "source": [
    "# starts ETABS application\n",
    "myETABSObject.ApplicationStart()\n",
    "\n",
    "# create SapModel object\n",
    "SapModel = myETABSObject.SapModel\n",
    "\n",
    "# initialize model\n",
    "SapModel.InitializeNewModel()"
   ]
  },
  {
   "cell_type": "code",
   "execution_count": 58,
   "id": "2b3deb09-9a0c-43e4-8069-86be6c3d0d32",
   "metadata": {},
   "outputs": [],
   "source": [
    "# open an existing file\n",
    "ret = SapModel.File.OpenFile(ModelPath)"
   ]
  },
  {
   "cell_type": "code",
   "execution_count": null,
   "id": "3a2f7b0f-f8b5-4a46-bb6d-589cc166d043",
   "metadata": {},
   "outputs": [],
   "source": [
    "SapModel.s"
   ]
  }
 ],
 "metadata": {
  "kernelspec": {
   "display_name": "Python 3 (ipykernel)",
   "language": "python",
   "name": "python3"
  },
  "language_info": {
   "codemirror_mode": {
    "name": "ipython",
    "version": 3
   },
   "file_extension": ".py",
   "mimetype": "text/x-python",
   "name": "python",
   "nbconvert_exporter": "python",
   "pygments_lexer": "ipython3",
   "version": "3.9.2"
  }
 },
 "nbformat": 4,
 "nbformat_minor": 5
}
